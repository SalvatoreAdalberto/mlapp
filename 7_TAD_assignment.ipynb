{
  "cells": [
    {
      "cell_type": "markdown",
      "metadata": {
        "id": "view-in-github",
        "colab_type": "text"
      },
      "source": [
        "<a href=\"https://colab.research.google.com/github/SalvatoreAdalberto/mlapp/blob/main/7_TAD_assignment.ipynb\" target=\"_parent\"><img src=\"https://colab.research.google.com/assets/colab-badge.svg\" alt=\"Open In Colab\"/></a>"
      ]
    },
    {
      "cell_type": "markdown",
      "metadata": {
        "id": "25_DoksTnz6A"
      },
      "source": [
        "# Lab 7: Time-series Anomaly Detection\n",
        "\n"
      ]
    },
    {
      "cell_type": "markdown",
      "metadata": {
        "id": "r__CaWOokrp6"
      },
      "source": [
        "Pandas was updated on 03/04/2023 to version 2.0, which is not compatibile with tsfel. Dowgrade to 1.5.3"
      ]
    },
    {
      "cell_type": "code",
      "execution_count": 1,
      "metadata": {
        "id": "sNzvafzV0UQk",
        "colab": {
          "base_uri": "https://localhost:8080/"
        },
        "outputId": "b32af3ad-b330-49bd-8f1b-55f8a157abf5"
      },
      "outputs": [
        {
          "output_type": "stream",
          "name": "stdout",
          "text": [
            "Looking in indexes: https://pypi.org/simple, https://us-python.pkg.dev/colab-wheels/public/simple/\n",
            "Requirement already satisfied: pandas==1.5.3 in /usr/local/lib/python3.10/dist-packages (1.5.3)\n",
            "Requirement already satisfied: python-dateutil>=2.8.1 in /usr/local/lib/python3.10/dist-packages (from pandas==1.5.3) (2.8.2)\n",
            "Requirement already satisfied: pytz>=2020.1 in /usr/local/lib/python3.10/dist-packages (from pandas==1.5.3) (2022.7.1)\n",
            "Requirement already satisfied: numpy>=1.21.0 in /usr/local/lib/python3.10/dist-packages (from pandas==1.5.3) (1.22.4)\n",
            "Requirement already satisfied: six>=1.5 in /usr/local/lib/python3.10/dist-packages (from python-dateutil>=2.8.1->pandas==1.5.3) (1.16.0)\n",
            "Looking in indexes: https://pypi.org/simple, https://us-python.pkg.dev/colab-wheels/public/simple/\n",
            "Collecting tsfel\n",
            "  Downloading tsfel-0.1.5-py3-none-any.whl (46 kB)\n",
            "\u001b[2K     \u001b[90m━━━━━━━━━━━━━━━━━━━━━━━━━━━━━━━━━━━━━━━━\u001b[0m \u001b[32m46.9/46.9 kB\u001b[0m \u001b[31m1.5 MB/s\u001b[0m eta \u001b[36m0:00:00\u001b[0m\n",
            "\u001b[?25hRequirement already satisfied: oauth2client>=4.1.3 in /usr/local/lib/python3.10/dist-packages (from tsfel) (4.1.3)\n",
            "Requirement already satisfied: gspread>=3.1.0 in /usr/local/lib/python3.10/dist-packages (from tsfel) (3.4.2)\n",
            "Requirement already satisfied: numpy>=1.18.5 in /usr/local/lib/python3.10/dist-packages (from tsfel) (1.22.4)\n",
            "Requirement already satisfied: scipy>=1.7.3 in /usr/local/lib/python3.10/dist-packages (from tsfel) (1.10.1)\n",
            "Requirement already satisfied: setuptools>=47.1.1 in /usr/local/lib/python3.10/dist-packages (from tsfel) (67.7.2)\n",
            "Requirement already satisfied: ipython>=7.4.0 in /usr/local/lib/python3.10/dist-packages (from tsfel) (7.34.0)\n",
            "Requirement already satisfied: pandas>=1.5.3 in /usr/local/lib/python3.10/dist-packages (from tsfel) (1.5.3)\n",
            "Requirement already satisfied: Sphinx>=1.8.5 in /usr/local/lib/python3.10/dist-packages (from tsfel) (3.5.4)\n",
            "Requirement already satisfied: requests>=2.2.1 in /usr/local/lib/python3.10/dist-packages (from gspread>=3.1.0->tsfel) (2.27.1)\n",
            "Requirement already satisfied: google-auth in /usr/local/lib/python3.10/dist-packages (from gspread>=3.1.0->tsfel) (2.17.3)\n",
            "Collecting jedi>=0.16\n",
            "  Downloading jedi-0.18.2-py2.py3-none-any.whl (1.6 MB)\n",
            "\u001b[2K     \u001b[90m━━━━━━━━━━━━━━━━━━━━━━━━━━━━━━━━━━━━━━━━\u001b[0m \u001b[32m1.6/1.6 MB\u001b[0m \u001b[31m9.9 MB/s\u001b[0m eta \u001b[36m0:00:00\u001b[0m\n",
            "\u001b[?25hRequirement already satisfied: traitlets>=4.2 in /usr/local/lib/python3.10/dist-packages (from ipython>=7.4.0->tsfel) (5.7.1)\n",
            "Requirement already satisfied: decorator in /usr/local/lib/python3.10/dist-packages (from ipython>=7.4.0->tsfel) (4.4.2)\n",
            "Requirement already satisfied: pexpect>4.3 in /usr/local/lib/python3.10/dist-packages (from ipython>=7.4.0->tsfel) (4.8.0)\n",
            "Requirement already satisfied: pickleshare in /usr/local/lib/python3.10/dist-packages (from ipython>=7.4.0->tsfel) (0.7.5)\n",
            "Requirement already satisfied: matplotlib-inline in /usr/local/lib/python3.10/dist-packages (from ipython>=7.4.0->tsfel) (0.1.6)\n",
            "Requirement already satisfied: backcall in /usr/local/lib/python3.10/dist-packages (from ipython>=7.4.0->tsfel) (0.2.0)\n",
            "Requirement already satisfied: pygments in /usr/local/lib/python3.10/dist-packages (from ipython>=7.4.0->tsfel) (2.14.0)\n",
            "Requirement already satisfied: prompt-toolkit!=3.0.0,!=3.0.1,<3.1.0,>=2.0.0 in /usr/local/lib/python3.10/dist-packages (from ipython>=7.4.0->tsfel) (3.0.38)\n",
            "Requirement already satisfied: httplib2>=0.9.1 in /usr/local/lib/python3.10/dist-packages (from oauth2client>=4.1.3->tsfel) (0.21.0)\n",
            "Requirement already satisfied: pyasn1>=0.1.7 in /usr/local/lib/python3.10/dist-packages (from oauth2client>=4.1.3->tsfel) (0.5.0)\n",
            "Requirement already satisfied: six>=1.6.1 in /usr/local/lib/python3.10/dist-packages (from oauth2client>=4.1.3->tsfel) (1.16.0)\n",
            "Requirement already satisfied: pyasn1-modules>=0.0.5 in /usr/local/lib/python3.10/dist-packages (from oauth2client>=4.1.3->tsfel) (0.3.0)\n",
            "Requirement already satisfied: rsa>=3.1.4 in /usr/local/lib/python3.10/dist-packages (from oauth2client>=4.1.3->tsfel) (4.9)\n",
            "Requirement already satisfied: pytz>=2020.1 in /usr/local/lib/python3.10/dist-packages (from pandas>=1.5.3->tsfel) (2022.7.1)\n",
            "Requirement already satisfied: python-dateutil>=2.8.1 in /usr/local/lib/python3.10/dist-packages (from pandas>=1.5.3->tsfel) (2.8.2)\n",
            "Requirement already satisfied: Jinja2>=2.3 in /usr/local/lib/python3.10/dist-packages (from Sphinx>=1.8.5->tsfel) (3.1.2)\n",
            "Requirement already satisfied: docutils<0.17,>=0.12 in /usr/local/lib/python3.10/dist-packages (from Sphinx>=1.8.5->tsfel) (0.16)\n",
            "Requirement already satisfied: alabaster<0.8,>=0.7 in /usr/local/lib/python3.10/dist-packages (from Sphinx>=1.8.5->tsfel) (0.7.13)\n",
            "Requirement already satisfied: packaging in /usr/local/lib/python3.10/dist-packages (from Sphinx>=1.8.5->tsfel) (23.1)\n",
            "Requirement already satisfied: imagesize in /usr/local/lib/python3.10/dist-packages (from Sphinx>=1.8.5->tsfel) (1.4.1)\n",
            "Requirement already satisfied: sphinxcontrib-qthelp in /usr/local/lib/python3.10/dist-packages (from Sphinx>=1.8.5->tsfel) (1.0.3)\n",
            "Requirement already satisfied: snowballstemmer>=1.1 in /usr/local/lib/python3.10/dist-packages (from Sphinx>=1.8.5->tsfel) (2.2.0)\n",
            "Requirement already satisfied: sphinxcontrib-htmlhelp in /usr/local/lib/python3.10/dist-packages (from Sphinx>=1.8.5->tsfel) (2.0.1)\n",
            "Requirement already satisfied: sphinxcontrib-applehelp in /usr/local/lib/python3.10/dist-packages (from Sphinx>=1.8.5->tsfel) (1.0.4)\n",
            "Requirement already satisfied: sphinxcontrib-jsmath in /usr/local/lib/python3.10/dist-packages (from Sphinx>=1.8.5->tsfel) (1.0.1)\n",
            "Requirement already satisfied: babel>=1.3 in /usr/local/lib/python3.10/dist-packages (from Sphinx>=1.8.5->tsfel) (2.12.1)\n",
            "Requirement already satisfied: sphinxcontrib-serializinghtml in /usr/local/lib/python3.10/dist-packages (from Sphinx>=1.8.5->tsfel) (1.1.5)\n",
            "Requirement already satisfied: sphinxcontrib-devhelp in /usr/local/lib/python3.10/dist-packages (from Sphinx>=1.8.5->tsfel) (1.0.2)\n",
            "Requirement already satisfied: pyparsing!=3.0.0,!=3.0.1,!=3.0.2,!=3.0.3,<4,>=2.4.2 in /usr/local/lib/python3.10/dist-packages (from httplib2>=0.9.1->oauth2client>=4.1.3->tsfel) (3.0.9)\n",
            "Requirement already satisfied: parso<0.9.0,>=0.8.0 in /usr/local/lib/python3.10/dist-packages (from jedi>=0.16->ipython>=7.4.0->tsfel) (0.8.3)\n",
            "Requirement already satisfied: MarkupSafe>=2.0 in /usr/local/lib/python3.10/dist-packages (from Jinja2>=2.3->Sphinx>=1.8.5->tsfel) (2.1.2)\n",
            "Requirement already satisfied: ptyprocess>=0.5 in /usr/local/lib/python3.10/dist-packages (from pexpect>4.3->ipython>=7.4.0->tsfel) (0.7.0)\n",
            "Requirement already satisfied: wcwidth in /usr/local/lib/python3.10/dist-packages (from prompt-toolkit!=3.0.0,!=3.0.1,<3.1.0,>=2.0.0->ipython>=7.4.0->tsfel) (0.2.6)\n",
            "Requirement already satisfied: urllib3<1.27,>=1.21.1 in /usr/local/lib/python3.10/dist-packages (from requests>=2.2.1->gspread>=3.1.0->tsfel) (1.26.15)\n",
            "Requirement already satisfied: idna<4,>=2.5 in /usr/local/lib/python3.10/dist-packages (from requests>=2.2.1->gspread>=3.1.0->tsfel) (3.4)\n",
            "Requirement already satisfied: certifi>=2017.4.17 in /usr/local/lib/python3.10/dist-packages (from requests>=2.2.1->gspread>=3.1.0->tsfel) (2022.12.7)\n",
            "Requirement already satisfied: charset-normalizer~=2.0.0 in /usr/local/lib/python3.10/dist-packages (from requests>=2.2.1->gspread>=3.1.0->tsfel) (2.0.12)\n",
            "Requirement already satisfied: cachetools<6.0,>=2.0.0 in /usr/local/lib/python3.10/dist-packages (from google-auth->gspread>=3.1.0->tsfel) (5.3.0)\n",
            "Installing collected packages: jedi, tsfel\n",
            "Successfully installed jedi-0.18.2 tsfel-0.1.5\n"
          ]
        }
      ],
      "source": [
        "!pip install pandas==1.5.3\n",
        "!pip install tsfel"
      ]
    },
    {
      "cell_type": "markdown",
      "metadata": {
        "id": "T3dOdx_Swt7s"
      },
      "source": [
        "## Import and settings"
      ]
    },
    {
      "cell_type": "code",
      "execution_count": 2,
      "metadata": {
        "id": "yLCrldUjk0g0",
        "colab": {
          "base_uri": "https://localhost:8080/"
        },
        "outputId": "0b8d80e4-816c-4778-c248-355c734ac8fd"
      },
      "outputs": [
        {
          "output_type": "stream",
          "name": "stdout",
          "text": [
            "Looking in indexes: https://pypi.org/simple, https://us-python.pkg.dev/colab-wheels/public/simple/\n",
            "Collecting keras_tuner\n",
            "  Downloading keras_tuner-1.3.5-py3-none-any.whl (176 kB)\n",
            "\u001b[2K     \u001b[90m━━━━━━━━━━━━━━━━━━━━━━━━━━━━━━━━━━━━━━━\u001b[0m \u001b[32m176.1/176.1 kB\u001b[0m \u001b[31m4.4 MB/s\u001b[0m eta \u001b[36m0:00:00\u001b[0m\n",
            "\u001b[?25hRequirement already satisfied: packaging in /usr/local/lib/python3.10/dist-packages (from keras_tuner) (23.1)\n",
            "Collecting kt-legacy\n",
            "  Downloading kt_legacy-1.0.5-py3-none-any.whl (9.6 kB)\n",
            "Requirement already satisfied: requests in /usr/local/lib/python3.10/dist-packages (from keras_tuner) (2.27.1)\n",
            "Requirement already satisfied: certifi>=2017.4.17 in /usr/local/lib/python3.10/dist-packages (from requests->keras_tuner) (2022.12.7)\n",
            "Requirement already satisfied: charset-normalizer~=2.0.0 in /usr/local/lib/python3.10/dist-packages (from requests->keras_tuner) (2.0.12)\n",
            "Requirement already satisfied: urllib3<1.27,>=1.21.1 in /usr/local/lib/python3.10/dist-packages (from requests->keras_tuner) (1.26.15)\n",
            "Requirement already satisfied: idna<4,>=2.5 in /usr/local/lib/python3.10/dist-packages (from requests->keras_tuner) (3.4)\n",
            "Installing collected packages: kt-legacy, keras_tuner\n",
            "Successfully installed keras_tuner-1.3.5 kt-legacy-1.0.5\n"
          ]
        }
      ],
      "source": [
        "!pip install keras_tuner"
      ]
    },
    {
      "cell_type": "code",
      "execution_count": 8,
      "metadata": {
        "id": "Ab1falMquEfu",
        "colab": {
          "base_uri": "https://localhost:8080/"
        },
        "outputId": "42456367-4921-43e9-9bb5-6f8d5e4d8d97"
      },
      "outputs": [
        {
          "output_type": "stream",
          "name": "stdout",
          "text": [
            "Mounted at /content/drive\n"
          ]
        }
      ],
      "source": [
        "import os\n",
        "import time\n",
        "import tsfel\n",
        "import warnings\n",
        "import datetime\n",
        "import keras_tuner\n",
        "import numpy as np\n",
        "import pandas as pd\n",
        "import seaborn as sns\n",
        "import tensorflow as tf\n",
        "import matplotlib.cm as cm\n",
        "from sklearn import metrics\n",
        "import plotly.express as px\n",
        "import matplotlib.pyplot as plt\n",
        "from sklearn import preprocessing\n",
        "import plotly.graph_objects as go\n",
        "from sklearn.decomposition import PCA\n",
        "from sklearn.pipeline import Pipeline\n",
        "from sklearn.svm import SVC, LinearSVC\n",
        "from sklearn.metrics import confusion_matrix\n",
        "from sklearn.ensemble import RandomForestClassifier\n",
        "from sklearn.model_selection import train_test_split\n",
        "from sklearn.feature_selection import SelectFromModel\n",
        "from sklearn.model_selection import RandomizedSearchCV\n",
        "from sklearn.feature_selection import VarianceThreshold\n",
        "\n",
        "from google.colab import drive\n",
        "drive.mount('/content/drive')\n",
        "\n",
        "# Set style for matplotlib\n",
        "plt.style.use(\"Solarize_Light2\")"
      ]
    },
    {
      "cell_type": "code",
      "source": [
        "\n",
        "ROOTDIR_DATASET_NORMAL = \"/content/drive/MyDrive/KukaV1/normal\""
      ],
      "metadata": {
        "id": "3sayb-q9ATCf"
      },
      "execution_count": 17,
      "outputs": []
    },
    {
      "cell_type": "markdown",
      "metadata": {
        "id": "OdQ6CABmwpet"
      },
      "source": [
        "## Utils"
      ]
    },
    {
      "cell_type": "code",
      "execution_count": 10,
      "metadata": {
        "id": "9VvhrlZYwpBF"
      },
      "outputs": [],
      "source": [
        "def seaborn_cm(cm, ax, tick_labels, fontsize=14, title=None, sum_actual=\"over_columns\",\n",
        "               xrotation=0, yrotation=0):\n",
        "    \"\"\"\n",
        "    Function to plot a confusion matrix\n",
        "    \"\"\"\n",
        "    from matplotlib import cm as plt_cmap\n",
        "    group_counts = [\"{:0.0f}\".format(value) for value in cm.flatten()]\n",
        "    if sum_actual == \"over_columns\":\n",
        "        cm = cm.astype('float') / cm.sum(axis=1)[:, np.newaxis]\n",
        "    elif sum_actual == \"over_rows\":\n",
        "        cm = cm.astype('float') / cm.sum(axis=0)[:, np.newaxis]\n",
        "    else:\n",
        "        print(\"sum_actual must be over_columns or over_rows\")\n",
        "        exit()\n",
        "    cm = np.nan_to_num(cm)\n",
        "    mean_acc = np.mean(np.diag(cm)[cm.sum(axis=1) != 0])\n",
        "    std_acc = np.std(np.diag(cm))\n",
        "    group_percentages = [\"{:0.0f}\".format(value*100) for value in cm.flatten()]\n",
        "    cm_labels = [f\"{c}\\n{p}%\" for c, p in zip(group_counts, group_percentages)]\n",
        "    cm_labels = np.asarray(cm_labels).reshape(len(tick_labels), len(tick_labels))\n",
        "    sns.heatmap(cm,\n",
        "                ax=ax,\n",
        "                annot=cm_labels,\n",
        "                fmt='',\n",
        "                cbar=False,\n",
        "                cmap=plt_cmap.Greys,\n",
        "                linewidths=1, linecolor='black',\n",
        "                annot_kws={\"fontsize\": fontsize},\n",
        "                xticklabels=tick_labels,\n",
        "                yticklabels=tick_labels)\n",
        "    ax.set_yticklabels(ax.get_yticklabels(), size=fontsize, rotation=yrotation)\n",
        "    ax.set_xticklabels(ax.get_xticklabels(), size=fontsize, rotation=xrotation)\n",
        "    if title:\n",
        "        title = f\"{title}\\nMean accuracy {mean_acc * 100:.1f} +- {std_acc * 100:.1f}\"\n",
        "    else:\n",
        "        title = f\"Mean accuracy {mean_acc * 100:.1f} +- {std_acc * 100:.1f}\"\n",
        "    ax.set_title(title)\n",
        "    if sum_actual == \"over_columns\":\n",
        "        ax.set_ylabel(\"Actual\")\n",
        "        ax.set_xlabel(\"Predicted\")\n",
        "    else:\n",
        "        ax.set_ylabel(\"Predicted\")\n",
        "        ax.set_xlabel(\"Actual\")\n",
        "    ax.axis(\"off\")"
      ]
    },
    {
      "cell_type": "markdown",
      "metadata": {
        "id": "o9lwijXxshIO"
      },
      "source": [
        "# Introduction"
      ]
    },
    {
      "cell_type": "markdown",
      "metadata": {
        "id": "aGsX9I4koqnY"
      },
      "source": [
        "You will use the dataset provided in the first Lab, concerning time series.\n",
        "\n",
        "In such Lab1, we built a model able to classify the action that is performing a Kuka robot.\n",
        "\n",
        "Now, we will explore Time Series Anomaly Detection (TAD), hence considering also the data contained in the collinsion foder."
      ]
    },
    {
      "cell_type": "markdown",
      "metadata": {
        "id": "IZ4i9Y0g1Pn6"
      },
      "source": [
        "This function loads sensor readings and the correspondig metadata. \n",
        "The output is a dataframe grouped by action."
      ]
    },
    {
      "cell_type": "code",
      "execution_count": 11,
      "metadata": {
        "id": "BuSu5E2TnzoG"
      },
      "outputs": [],
      "source": [
        "def get_df_action(filepaths_csv, filepaths_meta, action2int=None, delimiter=\";\"):\n",
        "    # Load dataframes\n",
        "    print(\"Loading data.\")\n",
        "    # Make dataframes\n",
        "    # Some classes show the output boolean parameter as True rather than true. Fix here\n",
        "    dfs_meta = list()\n",
        "    for filepath in filepaths_meta:\n",
        "        df_m = pd.read_csv(filepath, sep=delimiter)\n",
        "        df_m.str_repr = df_m.str_repr.str.replace('True', 'true')\n",
        "        df_m['filepath'] = filepath\n",
        "        dfs_meta.append(df_m)\n",
        "\n",
        "    df_meta = pd.concat(dfs_meta)\n",
        "    df_meta.index = pd.to_datetime(df_meta.init_timestamp.astype('datetime64[ms]'), format=\"%Y-%m-%dT%H:%M:%S.%f\")\n",
        "    df_meta['completed_timestamp'] = pd.to_datetime(df_meta.completed_timestamp.astype('datetime64[ms]'),\n",
        "                                                    format=\"%Y-%m-%dT%H:%M:%S.%f\")\n",
        "    df_meta['init_timestamp'] = pd.to_datetime(df_meta.init_timestamp.astype('datetime64[ms]'),\n",
        "                                               format=\"%Y-%m-%dT%H:%M:%S.%f\")\n",
        "\n",
        "    # Eventually reduce number of classes\n",
        "    # df_meta['str_repr'] = df_meta.str_repr.str.split('=', expand = True,n=1)[0]\n",
        "    # df_meta['str_repr'] = df_meta.str_repr.str.split('(', expand=True, n=1)[0]\n",
        "\n",
        "    actions = df_meta.str_repr.unique()\n",
        "    dfs = [pd.read_csv(filepath_csv, sep=\";\") for filepath_csv in filepaths_csv]\n",
        "    df = pd.concat(dfs)\n",
        "\n",
        "    # Sort columns by name !!!\n",
        "    df = df.sort_index(axis=1)\n",
        "\n",
        "    # Set timestamp as index\n",
        "    df.index = pd.to_datetime(df.time.astype('datetime64[ms]'), format=\"%Y-%m-%dT%H:%M:%S.%f\")\n",
        "    # Drop useless columns\n",
        "    columns_to_drop = [column for column in df.columns if \"Abb\" in column or \"Temperature\" in column]\n",
        "    df.drop([\"machine_nameKuka Robot_export_active_energy\",\n",
        "             \"machine_nameKuka Robot_import_reactive_energy\"] + columns_to_drop, axis=1, inplace=True)\n",
        "    signals = df.columns\n",
        "\n",
        "    df_action = list()\n",
        "    for action in actions:\n",
        "        for index, row in df_meta[df_meta.str_repr == action].iterrows():\n",
        "            start = row['init_timestamp']\n",
        "            end = row['completed_timestamp']\n",
        "            df_tmp = df.loc[start: end].copy()\n",
        "            df_tmp['action'] = action\n",
        "            # Duration as string (so is not considered a feature)\n",
        "            df_tmp['duration'] = str((row['completed_timestamp'] - row['init_timestamp']).total_seconds())\n",
        "            df_action.append(df_tmp)\n",
        "    df_action = pd.concat(df_action, ignore_index=True)\n",
        "    df_action.index = pd.to_datetime(df_action.time.astype('datetime64[ms]'), format=\"%Y-%m-%dT%H:%M:%S.%f\")\n",
        "    df_action = df_action[~df_action.index.duplicated(keep='first')]\n",
        "\n",
        "    # Drop NaN\n",
        "    df = df.dropna(axis=0)\n",
        "    df_action = df_action.dropna(axis=0)\n",
        "\n",
        "    if action2int is None:\n",
        "        action2int = dict()\n",
        "        j = 1\n",
        "        for label in df_action.action.unique():\n",
        "            action2int[label] = j\n",
        "            j += 1\n",
        "\n",
        "    df_merged = df.merge(df_action[['action']], left_index=True, right_index=True, how=\"left\")\n",
        "    # print(f\"df_merged len: {len(df_merged)}\")\n",
        "    # Where df_merged in NaN Kuka is in idle state\n",
        "    df_idle = df_merged[df_merged['action'].isna()].copy()\n",
        "    df_idle['action'] = 'idle'\n",
        "    df_idle['duration'] = df_action.duration.values.astype(float).mean().astype(str)\n",
        "    df_action = pd.concat([df_action, df_idle])\n",
        "\n",
        "    # ile label must be 0 for debug mode\n",
        "    action2int['idle'] = 0\n",
        "    print(f\"Found {len(set(df_action['action']))} different actions.\")\n",
        "    print(\"Loading data done.\\n\")\n",
        "\n",
        "    return df_action, df, df_meta, action2int"
      ]
    },
    {
      "cell_type": "markdown",
      "metadata": {
        "id": "5fszmTrv7p_b"
      },
      "source": [
        "Load all data (and metadata) for frequency = 10 Hz for the normal time series"
      ]
    },
    {
      "cell_type": "code",
      "execution_count": 15,
      "metadata": {
        "id": "iCFKUM60ypMa",
        "colab": {
          "base_uri": "https://localhost:8080/"
        },
        "outputId": "ba5da78a-61ba-4b52-80a5-f7c470d16a61"
      },
      "outputs": [
        {
          "output_type": "stream",
          "name": "stdout",
          "text": [
            "ls: cannot access '/content/drive/MyDrive/Kuka_v1/normal': No such file or directory\n"
          ]
        }
      ],
      "source": [
        "!ls {ROOTDIR_DATASET_NORMAL}"
      ]
    },
    {
      "cell_type": "code",
      "execution_count": 18,
      "metadata": {
        "id": "arGQVa5UtUh0",
        "colab": {
          "base_uri": "https://localhost:8080/"
        },
        "outputId": "44b2f89a-c2f1-4668-8551-796b71d9e9ff"
      },
      "outputs": [
        {
          "output_type": "stream",
          "name": "stdout",
          "text": [
            "Loading data.\n",
            "Found 31 different actions.\n",
            "Loading data done.\n",
            "\n"
          ]
        }
      ],
      "source": [
        "filepath_csv = [os.path.join(ROOTDIR_DATASET_NORMAL, f\"rec{r}_20220811_rbtc_0.1s.csv\") for r in [0, 2, 3, 4]]\n",
        "filepath_meta = [os.path.join(ROOTDIR_DATASET_NORMAL, f\"rec{r}_20220811_rbtc_0.1s.metadata\") for r in [0, 2, 3, 4]]\n",
        "df_action, df, df_meta, action2int = get_df_action(filepath_csv, filepath_meta)"
      ]
    },
    {
      "cell_type": "code",
      "execution_count": 19,
      "metadata": {
        "id": "hD83-XC8sP-c",
        "colab": {
          "base_uri": "https://localhost:8080/",
          "height": 289
        },
        "outputId": "ec7026ab-8b93-4932-842c-44050cfa3827"
      },
      "outputs": [
        {
          "output_type": "execute_result",
          "data": {
            "text/plain": [
              "                         machine_nameKuka Robot_apparent_power  \\\n",
              "time                                                             \n",
              "2022-08-11 13:09:50.319                             165.617218   \n",
              "2022-08-11 13:09:50.419                             165.617218   \n",
              "\n",
              "                         machine_nameKuka Robot_current  \\\n",
              "time                                                      \n",
              "2022-08-11 13:09:50.319                        0.976074   \n",
              "2022-08-11 13:09:50.419                        0.976074   \n",
              "\n",
              "                         machine_nameKuka Robot_export_reactive_energy  \\\n",
              "time                                                                     \n",
              "2022-08-11 13:09:50.319                                    1383.394043   \n",
              "2022-08-11 13:09:50.419                                    1383.394043   \n",
              "\n",
              "                         machine_nameKuka Robot_frequency  \\\n",
              "time                                                        \n",
              "2022-08-11 13:09:50.319                         49.951218   \n",
              "2022-08-11 13:09:50.419                         49.951218   \n",
              "\n",
              "                         machine_nameKuka Robot_import_active_energy  \\\n",
              "time                                                                   \n",
              "2022-08-11 13:09:50.319                                  1618.833008   \n",
              "2022-08-11 13:09:50.419                                  1618.833008   \n",
              "\n",
              "                         machine_nameKuka Robot_phase_angle  \\\n",
              "time                                                          \n",
              "2022-08-11 13:09:50.319                          319.896576   \n",
              "2022-08-11 13:09:50.419                          319.896576   \n",
              "\n",
              "                         machine_nameKuka Robot_power  \\\n",
              "time                                                    \n",
              "2022-08-11 13:09:50.319                    126.683266   \n",
              "2022-08-11 13:09:50.419                    126.683266   \n",
              "\n",
              "                         machine_nameKuka Robot_power_factor  \\\n",
              "time                                                           \n",
              "2022-08-11 13:09:50.319                             0.764916   \n",
              "2022-08-11 13:09:50.419                             0.764916   \n",
              "\n",
              "                         machine_nameKuka Robot_reactive_power  \\\n",
              "time                                                             \n",
              "2022-08-11 13:09:50.319                            -106.669258   \n",
              "2022-08-11 13:09:50.419                            -106.669258   \n",
              "\n",
              "                         machine_nameKuka Robot_voltage  ...  sensor_id5_AccZ  \\\n",
              "time                                                     ...                    \n",
              "2022-08-11 13:09:50.319                      228.842468  ...           309.87   \n",
              "2022-08-11 13:09:50.419                      228.842468  ...           309.88   \n",
              "\n",
              "                         sensor_id5_AngX  sensor_id5_AngY  sensor_id5_AngZ  \\\n",
              "time                                                                         \n",
              "2022-08-11 13:09:50.319           248.15           350.14           328.11   \n",
              "2022-08-11 13:09:50.419           248.15           350.14           328.11   \n",
              "\n",
              "                         sensor_id5_GyroX  sensor_id5_GyroY  sensor_id5_GyroZ  \\\n",
              "time                                                                            \n",
              "2022-08-11 13:09:50.319               0.0               0.0               0.0   \n",
              "2022-08-11 13:09:50.419               0.0               0.0               0.0   \n",
              "\n",
              "                                                     time  \\\n",
              "time                                                        \n",
              "2022-08-11 13:09:50.319  2022-08-11T13:09:50.319094+00:00   \n",
              "2022-08-11 13:09:50.419  2022-08-11T13:09:50.419094+00:00   \n",
              "\n",
              "                                                 action  duration  \n",
              "time                                                               \n",
              "2022-08-11 13:09:50.319  pickFromPallet(2,2)=[true,1,0]    12.052  \n",
              "2022-08-11 13:09:50.419  pickFromPallet(2,2)=[true,1,0]    12.052  \n",
              "\n",
              "[2 rows x 58 columns]"
            ],
            "text/html": [
              "\n",
              "  <div id=\"df-2ddcfe81-b9b8-435e-b436-7c3088048653\">\n",
              "    <div class=\"colab-df-container\">\n",
              "      <div>\n",
              "<style scoped>\n",
              "    .dataframe tbody tr th:only-of-type {\n",
              "        vertical-align: middle;\n",
              "    }\n",
              "\n",
              "    .dataframe tbody tr th {\n",
              "        vertical-align: top;\n",
              "    }\n",
              "\n",
              "    .dataframe thead th {\n",
              "        text-align: right;\n",
              "    }\n",
              "</style>\n",
              "<table border=\"1\" class=\"dataframe\">\n",
              "  <thead>\n",
              "    <tr style=\"text-align: right;\">\n",
              "      <th></th>\n",
              "      <th>machine_nameKuka Robot_apparent_power</th>\n",
              "      <th>machine_nameKuka Robot_current</th>\n",
              "      <th>machine_nameKuka Robot_export_reactive_energy</th>\n",
              "      <th>machine_nameKuka Robot_frequency</th>\n",
              "      <th>machine_nameKuka Robot_import_active_energy</th>\n",
              "      <th>machine_nameKuka Robot_phase_angle</th>\n",
              "      <th>machine_nameKuka Robot_power</th>\n",
              "      <th>machine_nameKuka Robot_power_factor</th>\n",
              "      <th>machine_nameKuka Robot_reactive_power</th>\n",
              "      <th>machine_nameKuka Robot_voltage</th>\n",
              "      <th>...</th>\n",
              "      <th>sensor_id5_AccZ</th>\n",
              "      <th>sensor_id5_AngX</th>\n",
              "      <th>sensor_id5_AngY</th>\n",
              "      <th>sensor_id5_AngZ</th>\n",
              "      <th>sensor_id5_GyroX</th>\n",
              "      <th>sensor_id5_GyroY</th>\n",
              "      <th>sensor_id5_GyroZ</th>\n",
              "      <th>time</th>\n",
              "      <th>action</th>\n",
              "      <th>duration</th>\n",
              "    </tr>\n",
              "    <tr>\n",
              "      <th>time</th>\n",
              "      <th></th>\n",
              "      <th></th>\n",
              "      <th></th>\n",
              "      <th></th>\n",
              "      <th></th>\n",
              "      <th></th>\n",
              "      <th></th>\n",
              "      <th></th>\n",
              "      <th></th>\n",
              "      <th></th>\n",
              "      <th></th>\n",
              "      <th></th>\n",
              "      <th></th>\n",
              "      <th></th>\n",
              "      <th></th>\n",
              "      <th></th>\n",
              "      <th></th>\n",
              "      <th></th>\n",
              "      <th></th>\n",
              "      <th></th>\n",
              "      <th></th>\n",
              "    </tr>\n",
              "  </thead>\n",
              "  <tbody>\n",
              "    <tr>\n",
              "      <th>2022-08-11 13:09:50.319</th>\n",
              "      <td>165.617218</td>\n",
              "      <td>0.976074</td>\n",
              "      <td>1383.394043</td>\n",
              "      <td>49.951218</td>\n",
              "      <td>1618.833008</td>\n",
              "      <td>319.896576</td>\n",
              "      <td>126.683266</td>\n",
              "      <td>0.764916</td>\n",
              "      <td>-106.669258</td>\n",
              "      <td>228.842468</td>\n",
              "      <td>...</td>\n",
              "      <td>309.87</td>\n",
              "      <td>248.15</td>\n",
              "      <td>350.14</td>\n",
              "      <td>328.11</td>\n",
              "      <td>0.0</td>\n",
              "      <td>0.0</td>\n",
              "      <td>0.0</td>\n",
              "      <td>2022-08-11T13:09:50.319094+00:00</td>\n",
              "      <td>pickFromPallet(2,2)=[true,1,0]</td>\n",
              "      <td>12.052</td>\n",
              "    </tr>\n",
              "    <tr>\n",
              "      <th>2022-08-11 13:09:50.419</th>\n",
              "      <td>165.617218</td>\n",
              "      <td>0.976074</td>\n",
              "      <td>1383.394043</td>\n",
              "      <td>49.951218</td>\n",
              "      <td>1618.833008</td>\n",
              "      <td>319.896576</td>\n",
              "      <td>126.683266</td>\n",
              "      <td>0.764916</td>\n",
              "      <td>-106.669258</td>\n",
              "      <td>228.842468</td>\n",
              "      <td>...</td>\n",
              "      <td>309.88</td>\n",
              "      <td>248.15</td>\n",
              "      <td>350.14</td>\n",
              "      <td>328.11</td>\n",
              "      <td>0.0</td>\n",
              "      <td>0.0</td>\n",
              "      <td>0.0</td>\n",
              "      <td>2022-08-11T13:09:50.419094+00:00</td>\n",
              "      <td>pickFromPallet(2,2)=[true,1,0]</td>\n",
              "      <td>12.052</td>\n",
              "    </tr>\n",
              "  </tbody>\n",
              "</table>\n",
              "<p>2 rows × 58 columns</p>\n",
              "</div>\n",
              "      <button class=\"colab-df-convert\" onclick=\"convertToInteractive('df-2ddcfe81-b9b8-435e-b436-7c3088048653')\"\n",
              "              title=\"Convert this dataframe to an interactive table.\"\n",
              "              style=\"display:none;\">\n",
              "        \n",
              "  <svg xmlns=\"http://www.w3.org/2000/svg\" height=\"24px\"viewBox=\"0 0 24 24\"\n",
              "       width=\"24px\">\n",
              "    <path d=\"M0 0h24v24H0V0z\" fill=\"none\"/>\n",
              "    <path d=\"M18.56 5.44l.94 2.06.94-2.06 2.06-.94-2.06-.94-.94-2.06-.94 2.06-2.06.94zm-11 1L8.5 8.5l.94-2.06 2.06-.94-2.06-.94L8.5 2.5l-.94 2.06-2.06.94zm10 10l.94 2.06.94-2.06 2.06-.94-2.06-.94-.94-2.06-.94 2.06-2.06.94z\"/><path d=\"M17.41 7.96l-1.37-1.37c-.4-.4-.92-.59-1.43-.59-.52 0-1.04.2-1.43.59L10.3 9.45l-7.72 7.72c-.78.78-.78 2.05 0 2.83L4 21.41c.39.39.9.59 1.41.59.51 0 1.02-.2 1.41-.59l7.78-7.78 2.81-2.81c.8-.78.8-2.07 0-2.86zM5.41 20L4 18.59l7.72-7.72 1.47 1.35L5.41 20z\"/>\n",
              "  </svg>\n",
              "      </button>\n",
              "      \n",
              "  <style>\n",
              "    .colab-df-container {\n",
              "      display:flex;\n",
              "      flex-wrap:wrap;\n",
              "      gap: 12px;\n",
              "    }\n",
              "\n",
              "    .colab-df-convert {\n",
              "      background-color: #E8F0FE;\n",
              "      border: none;\n",
              "      border-radius: 50%;\n",
              "      cursor: pointer;\n",
              "      display: none;\n",
              "      fill: #1967D2;\n",
              "      height: 32px;\n",
              "      padding: 0 0 0 0;\n",
              "      width: 32px;\n",
              "    }\n",
              "\n",
              "    .colab-df-convert:hover {\n",
              "      background-color: #E2EBFA;\n",
              "      box-shadow: 0px 1px 2px rgba(60, 64, 67, 0.3), 0px 1px 3px 1px rgba(60, 64, 67, 0.15);\n",
              "      fill: #174EA6;\n",
              "    }\n",
              "\n",
              "    [theme=dark] .colab-df-convert {\n",
              "      background-color: #3B4455;\n",
              "      fill: #D2E3FC;\n",
              "    }\n",
              "\n",
              "    [theme=dark] .colab-df-convert:hover {\n",
              "      background-color: #434B5C;\n",
              "      box-shadow: 0px 1px 3px 1px rgba(0, 0, 0, 0.15);\n",
              "      filter: drop-shadow(0px 1px 2px rgba(0, 0, 0, 0.3));\n",
              "      fill: #FFFFFF;\n",
              "    }\n",
              "  </style>\n",
              "\n",
              "      <script>\n",
              "        const buttonEl =\n",
              "          document.querySelector('#df-2ddcfe81-b9b8-435e-b436-7c3088048653 button.colab-df-convert');\n",
              "        buttonEl.style.display =\n",
              "          google.colab.kernel.accessAllowed ? 'block' : 'none';\n",
              "\n",
              "        async function convertToInteractive(key) {\n",
              "          const element = document.querySelector('#df-2ddcfe81-b9b8-435e-b436-7c3088048653');\n",
              "          const dataTable =\n",
              "            await google.colab.kernel.invokeFunction('convertToInteractive',\n",
              "                                                     [key], {});\n",
              "          if (!dataTable) return;\n",
              "\n",
              "          const docLinkHtml = 'Like what you see? Visit the ' +\n",
              "            '<a target=\"_blank\" href=https://colab.research.google.com/notebooks/data_table.ipynb>data table notebook</a>'\n",
              "            + ' to learn more about interactive tables.';\n",
              "          element.innerHTML = '';\n",
              "          dataTable['output_type'] = 'display_data';\n",
              "          await google.colab.output.renderOutput(dataTable, element);\n",
              "          const docLink = document.createElement('div');\n",
              "          docLink.innerHTML = docLinkHtml;\n",
              "          element.appendChild(docLink);\n",
              "        }\n",
              "      </script>\n",
              "    </div>\n",
              "  </div>\n",
              "  "
            ]
          },
          "metadata": {},
          "execution_count": 19
        }
      ],
      "source": [
        "df_action.head(2)"
      ]
    },
    {
      "cell_type": "markdown",
      "metadata": {
        "id": "kaJr3wL__r0I"
      },
      "source": [
        "# Features extraction"
      ]
    },
    {
      "cell_type": "markdown",
      "metadata": {
        "id": "EnTpATdm_0zM"
      },
      "source": [
        "We will leverage [Time Series Feature Extraction Library (TSFEL)](https://tsfel.readthedocs.io/en/latest/), to extract features from time series data. "
      ]
    },
    {
      "cell_type": "code",
      "execution_count": 20,
      "metadata": {
        "id": "VeTHFj8h0dQ3"
      },
      "outputs": [],
      "source": [
        "warnings.filterwarnings(\"ignore\", category=FutureWarning)\n",
        "warnings.filterwarnings(\"ignore\", category=UserWarning)\n",
        "warnings.filterwarnings(\"ignore\", category=RuntimeWarning)\n",
        "\n",
        "def get_features_ts(domain, df_action, df_meta, frequency, action2int):\n",
        "    duration_dict = {1: 10, 10: 1, 100: 0.1, 200: 0.05}\n",
        "    duration_min = duration_dict[int(frequency)]\n",
        "    cfg = tsfel.get_features_by_domain(domain)\n",
        "    dataframe_features = list()\n",
        "    print(\"Computing features.\")\n",
        "    # Idle does not have associated timestamps. Window is set to 10 seconds\n",
        "    df_by_action = df_action[df_action[\"action\"] == \"idle\"].copy()\n",
        "    X = tsfel.time_series_features_extractor(cfg,\n",
        "                                             df_by_action.select_dtypes(['number']),\n",
        "                                             fs=frequency,\n",
        "                                             header_names=df_by_action.select_dtypes(['number']).columns + '-',\n",
        "                                             window_size=int(frequency * 10),\n",
        "                                             verbose=False)\n",
        "    time = pd.to_datetime(df_by_action.time.astype('datetime64[ms]'), format=\"%Y-%m-%dT%H:%M:%S.%f\")\n",
        "    X['start'] = [t[0] for t in\n",
        "                  tsfel.utils.signal_processing.signal_window_splitter(time, window_size=int(frequency * 10))]\n",
        "    X['duration'] = 10\n",
        "    X['end'] = X['start'] + pd.to_timedelta(X['duration'], 's')\n",
        "    X['label'] = action2int[\"idle\"]\n",
        "    X.drop('duration', inplace=True, axis=1)\n",
        "    dataframe_features.append(X)\n",
        "    actions = list(df_action.action.unique())\n",
        "    actions.remove(\"idle\")\n",
        "    for action in actions:\n",
        "        df_by_action = df_action[df_action[\"action\"] == action].copy()\n",
        "        df_meta_by_action = df_meta[df_meta['str_repr'] == action].copy()\n",
        "        df_meta_by_action['start'] = pd.to_datetime(df_meta_by_action.init_timestamp.astype('datetime64[ms]'),\n",
        "                                                    format=\"%Y-%m-%dT%H:%M:%S.%f\")\n",
        "        df_meta_by_action['end'] = pd.to_datetime(\n",
        "            df_meta_by_action.completed_timestamp.astype('datetime64[ms]'), format=\"%Y-%m-%dT%H:%M:%S.%f\")\n",
        "        for _, row in df_meta_by_action.iterrows():\n",
        "            df_by_action_by_event = df_by_action.loc[row[\"start\"]: row[\"end\"]]\n",
        "            if len(df_by_action_by_event) < duration_min * frequency:\n",
        "                print(f\"Skipped feature extraction for {action} {row['start']} : {row['end']}.\")\n",
        "                continue\n",
        "\n",
        "            X = tsfel.calc_window_features(cfg,\n",
        "                                           df_by_action_by_event.select_dtypes(['number']),\n",
        "                                           header_names=df_by_action_by_event.select_dtypes(['number']).columns + '-',\n",
        "                                           fs=frequency,\n",
        "                                           verbose=False)\n",
        "            # print(X.shape)\n",
        "            X['label'] = action2int[action]\n",
        "            X['start'] = row['start']\n",
        "            X['end'] = row['end']\n",
        "            dataframe_features.append(X)\n",
        "\n",
        "    dataframe_features = pd.concat(dataframe_features)\n",
        "    print(\"Computing features done.\")\n",
        "    return dataframe_features"
      ]
    },
    {
      "cell_type": "code",
      "execution_count": 21,
      "metadata": {
        "id": "hiOnD99H1K4t",
        "colab": {
          "base_uri": "https://localhost:8080/",
          "height": 230
        },
        "outputId": "72b65cae-1330-45f4-ca63-c477e976630e"
      },
      "outputs": [
        {
          "output_type": "stream",
          "name": "stdout",
          "text": [
            "Computing features.\n"
          ]
        },
        {
          "output_type": "display_data",
          "data": {
            "text/plain": [
              "<IPython.core.display.HTML object>"
            ],
            "text/html": [
              "\n",
              "              <p>\n",
              "                  Progress: 0% Complete\n",
              "              <p/>            \n",
              "              <progress\n",
              "                  value='0'\n",
              "                  max='32',\n",
              "                  style='width: 25%',\n",
              "              >\n",
              "                  0\n",
              "              </progress>\n",
              "\n",
              "    "
            ]
          },
          "metadata": {}
        },
        {
          "output_type": "stream",
          "name": "stdout",
          "text": [
            "Skipped feature extraction for pickFromPallet(1,2)=[true,1,0] 2022-08-11 14:37:37.436000 : 2022-08-11 14:37:37.421000.\n",
            "Skipped feature extraction for placeToPallet(1,1)=[true,0] 2022-08-11 14:37:37.421000 : 2022-08-11 14:37:37.442000.\n",
            "Skipped feature extraction for pickFromPallet(3,2)=[true,1,0] 2022-08-11 15:36:32.568000 : 2022-08-11 15:36:32.533000.\n",
            "Skipped feature extraction for pickFromPallet(3,2)=[true,1,0] 2022-08-11 15:36:32.572000 : 2022-08-11 15:36:32.561000.\n",
            "Skipped feature extraction for placeToPallet(1,3)=[true,0] 2022-08-11 15:36:32.533000 : 2022-08-11 15:36:32.572000.\n",
            "Skipped feature extraction for placeToPallet(1,3)=[true,0] 2022-08-11 15:36:32.561000 : 2022-08-11 15:36:32.561000.\n",
            "Computing features done.\n",
            "--- 471.21521973609924 seconds ---\n"
          ]
        }
      ],
      "source": [
        "start_time = time.time()\n",
        "df_features = get_features_ts(\"statistical\", df_action, df_meta, 10, action2int)\n",
        "print(\"--- %s seconds ---\" % (time.time() - start_time))"
      ]
    },
    {
      "cell_type": "markdown",
      "metadata": {
        "id": "lXK9ZOMS3yT2"
      },
      "source": [
        "Prepare data for train and test\n",
        "\n",
        "Note that:\n",
        "\n",
        "*   the last three columns are the start, the end and the label corresponding to the action the robot is performing. Label is our gound truth, start and end can be dropped for the moment.\n",
        "*   set NaN valuesto 0.\n",
        "\n",
        "\n"
      ]
    },
    {
      "cell_type": "code",
      "execution_count": 22,
      "metadata": {
        "id": "cELRWIFB7s60",
        "colab": {
          "base_uri": "https://localhost:8080/"
        },
        "outputId": "4f518372-f5da-4a6f-ed75-cb2fd8a4c785"
      },
      "outputs": [
        {
          "output_type": "execute_result",
          "data": {
            "text/plain": [
              "True"
            ]
          },
          "metadata": {},
          "execution_count": 22
        }
      ],
      "source": [
        "df_features.isnull().values.any()"
      ]
    },
    {
      "cell_type": "code",
      "execution_count": 23,
      "metadata": {
        "id": "zyKUCiCNGnvZ"
      },
      "outputs": [],
      "source": [
        "df_features_nonan = df_features.fillna(0)"
      ]
    },
    {
      "cell_type": "code",
      "execution_count": 24,
      "metadata": {
        "id": "ksU5UOl1_Ci9"
      },
      "outputs": [],
      "source": [
        "df_train, df_test = train_test_split(df_features_nonan)"
      ]
    },
    {
      "cell_type": "code",
      "execution_count": 25,
      "metadata": {
        "id": "GE10NG8S_S22"
      },
      "outputs": [],
      "source": [
        "X_train = df_train.drop([\"label\", \"start\", \"end\"], axis=1)\n",
        "y_train = df_train[\"label\"]\n",
        "X_test = df_test.drop([\"label\", \"start\", \"end\"], axis=1)\n",
        "y_test = df_test[\"label\"]"
      ]
    },
    {
      "cell_type": "code",
      "execution_count": 26,
      "metadata": {
        "id": "ZwJCzu09lsyO"
      },
      "outputs": [],
      "source": [
        "# Normalise features\n",
        "scaler = preprocessing.StandardScaler()\n",
        "scaler.fit(X_train)\n",
        "X_train = pd.DataFrame(scaler.transform(X_train), columns=X_train.columns)\n",
        "\n",
        "# Remove zero-variance features\n",
        "selector_variance = VarianceThreshold()\n",
        "selector_variance.fit(X_train)\n",
        "X_train = pd.DataFrame(selector_variance.transform(X_train),\n",
        "                        columns=X_train.columns.values[selector_variance.get_support()])\n",
        "\n",
        "# Remove highly correlated features\n",
        "corr_features = tsfel.correlated_features(X_train,\n",
        "                                          threshold=0.95)\n",
        "X_train.drop(corr_features, inplace=True, axis=1)\n",
        "\n",
        "# Lasso selector\n",
        "lsvc = LinearSVC(C=0.01, penalty=\"l1\", dual=False).fit(X_train, y_train)\n",
        "lasso = SelectFromModel(lsvc, prefit=True)\n",
        "selected_features = X_train.columns.values[lasso.get_support()]\n",
        "X_train = X_train[selected_features].copy()\n",
        "\n",
        "# Labels\n",
        "num_classes = len(set(y_train))\n",
        "y_train_categorical = tf.keras.utils.to_categorical(y_train, num_classes=num_classes)\n",
        "\n",
        "# Test\n",
        "X_test = pd.DataFrame(selector_variance.transform(scaler.transform(X_test)),\n",
        "                      columns=X_test.columns.values[selector_variance.get_support()])\n",
        "X_test.drop(corr_features, inplace=True, axis=1)\n",
        "X_test = X_test[selected_features].copy()"
      ]
    },
    {
      "cell_type": "markdown",
      "metadata": {
        "id": "do95vYpgxEsx"
      },
      "source": [
        "# Assignment #1: Train a Bayesian MLP"
      ]
    },
    {
      "cell_type": "markdown",
      "metadata": {
        "id": "xtsA0neRwWwa"
      },
      "source": [
        "Here we will train a Bayesian MLP able to provide a reliable uncertainty metric.\n",
        "We will use [keras tuner](https://keras.io/keras_tuner/) to tune the huperparameters of such model."
      ]
    },
    {
      "cell_type": "markdown",
      "metadata": {
        "id": "Y2BnSmn9wifh"
      },
      "source": [
        "![immagine.png](data:image/png;base64,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)"
      ]
    },
    {
      "cell_type": "code",
      "execution_count": 27,
      "metadata": {
        "id": "Od5afHphmynG"
      },
      "outputs": [],
      "source": [
        "# Create the MLP tf model\n",
        "def build_model(hp):\n",
        "    hp_learning_rate = hp.Choice('learning_rate', values=[1e-1, 1e-2, 1e-3, 1e-4]) \n",
        "    hp_drop_rate =hp.Float('drop_rate', min_value=0.1, max_value=0.75, step=32) \n",
        "    hp_drop_rate_last = hp.Float('drop_rate', min_value=0.1, max_value=0.75, step=32) \n",
        "    inputs = tf.keras.layers.Input(shape=(X_train.values.shape[1],))\n",
        "    x = inputs\n",
        "    for i in range(hp.Int(\"mlp_layers\", 1, 3)):\n",
        "        x = tf.keras.layers.Dense(\n",
        "           units=hp.Int(f\"units_{i}\", 32, 128, step=32), activation=\"relu\",\n",
        "        )(x)\n",
        "        x = tf.keras.layers.Dropout(rate=hp_drop_rate)(x, training=True)\n",
        "    x = tf.keras.layers.Dropout(rate=0.5)(x, training=True)\n",
        "    x = tf.keras.layers.Dense(num_classes, activation='softmax', name='predictions')(x) \n",
        "    tf_model = tf.keras.Model(inputs=inputs, outputs=x) \n",
        "    tf_model.compile(loss='categorical_crossentropy',\n",
        "              optimizer=tf.keras.optimizers.Adam(learning_rate=hp_learning_rate),\n",
        "                metrics=['accuracy'])\n",
        "    return  tf_model"
      ]
    },
    {
      "cell_type": "code",
      "execution_count": 29,
      "metadata": {
        "id": "NSgAtPC_m_AL",
        "colab": {
          "base_uri": "https://localhost:8080/"
        },
        "outputId": "48dff601-4ce6-406b-d17a-f7cb207cd23f"
      },
      "outputs": [
        {
          "output_type": "stream",
          "name": "stdout",
          "text": [
            "Trial 90 Complete [00h 00m 10s]\n",
            "accuracy: 0.8957476019859314\n",
            "\n",
            "Best accuracy So Far: 0.9629629850387573\n",
            "Total elapsed time: 00h 04m 17s\n"
          ]
        }
      ],
      "source": [
        "DIR_OUTPUT = \"/content/models\"\n",
        "try:\n",
        "   os.makedirs(DIR_OUTPUT)\n",
        "except FileExistsError: \n",
        "   print(f\"{DIR_OUTPUT} exists yet.\")\n",
        "tuner = keras_tuner.Hyperband(\n",
        "   build_model,\n",
        "   overwrite=True, \n",
        "   objective='accuracy',\n",
        "   max_epochs=50, \n",
        "   factor=3,\n",
        "   directory=os.path.join(DIR_OUTPUT, \"keras tuner\"), \n",
        "   project_name=\"keras_tuner_prj\")\n",
        "\n",
        "stop_early = tf.keras.callbacks.EarlyStopping(monitor='accuracy', patience=15) \n",
        "print(\"Grid search training.\")\n",
        "tuner.search(X_train.values, y_train_categorical, epochs=50, \n",
        "          callbacks=[stop_early,tf.keras.callbacks.TensorBoard(\n",
        "             os.path.join(DIR_OUTPUT, '/tmp/tb_logs'))])"
      ]
    },
    {
      "cell_type": "code",
      "execution_count": 30,
      "metadata": {
        "id": "4Vb6SkNNqjIB",
        "colab": {
          "base_uri": "https://localhost:8080/"
        },
        "outputId": "aa8039c0-c94b-4f0d-a354-1cf1801fcd2e"
      },
      "outputs": [
        {
          "output_type": "stream",
          "name": "stdout",
          "text": [
            "8/8 [==============================] - 0s 2ms/step\n"
          ]
        }
      ],
      "source": [
        "classifier = tuner.get_best_models()[0]\n",
        "y_test_predict = classifier.predict(X_test.values)"
      ]
    },
    {
      "cell_type": "markdown",
      "metadata": {
        "id": "IwfnwDPlw1hh"
      },
      "source": [
        "Check the model performance"
      ]
    },
    {
      "cell_type": "code",
      "execution_count": 31,
      "metadata": {
        "id": "sl_jrW8Xq0dW",
        "colab": {
          "base_uri": "https://localhost:8080/",
          "height": 133
        },
        "outputId": "99fd15f7-6e48-4ee6-92df-5319050be7fe"
      },
      "outputs": [
        {
          "output_type": "error",
          "ename": "SyntaxError",
          "evalue": "ignored",
          "traceback": [
            "\u001b[0;36m  File \u001b[0;32m\"<ipython-input-31-87f518332e15>\"\u001b[0;36m, line \u001b[0;32m4\u001b[0m\n\u001b[0;31m    seaborn_cm = (cm, ax, [int2action[l] for l in action2int.values()], fontsize=8, xrotation=90)\u001b[0m\n\u001b[0m                                                                        ^\u001b[0m\n\u001b[0;31mSyntaxError\u001b[0m\u001b[0;31m:\u001b[0m invalid syntax. Maybe you meant '==' or ':=' instead of '='?\n"
          ]
        }
      ],
      "source": [
        "cm = confusion_matrix(y_test, y_test_predict.argmax(axis=1), labels=list(action2int.values()))\n",
        "fig, ax = plt.subplots(1,1, figsize=(8,8))\n",
        "int2action = {v: k for k, v in action2int.items() }\n",
        "seaborn_cm = (cm, ax, [int2action[l] for l in action2int.values()], fontsize=8, xrotation=90)\n",
        "plt.tight_layout()"
      ]
    },
    {
      "cell_type": "markdown",
      "metadata": {
        "id": "VIYjofycw4Ni"
      },
      "source": [
        "Here we implement a wrapper to compute uncertainty metrics (see Lab6)"
      ]
    },
    {
      "cell_type": "code",
      "execution_count": null,
      "metadata": {
        "id": "3ETc3Wlqj0-7"
      },
      "outputs": [],
      "source": [
        "class Confidence:\n",
        "    [...]"
      ]
    },
    {
      "cell_type": "markdown",
      "metadata": {
        "id": "bh8GVtwEUb_K"
      },
      "source": [
        "PLot the distribution for correct and wrong predictiond"
      ]
    },
    {
      "cell_type": "markdown",
      "metadata": {
        "id": "-L0JBb09p9ws"
      },
      "source": [
        "# Load collisions and extract features"
      ]
    },
    {
      "cell_type": "code",
      "execution_count": null,
      "metadata": {
        "id": "DuHUyti8pyXs"
      },
      "outputs": [],
      "source": [
        "ROOTDIR_DATASET_ANOMALY = \"/content/drive/MyDrive/KukaV1/collisions\""
      ]
    },
    {
      "cell_type": "code",
      "execution_count": null,
      "metadata": {
        "id": "gEyk_PFIq5Qj"
      },
      "outputs": [],
      "source": [
        "!ls {ROOTDIR_DATASET_ANOMALY}"
      ]
    },
    {
      "cell_type": "markdown",
      "metadata": {
        "id": "iyr0JdXRrOe9"
      },
      "source": [
        "Note that we have a discrepancy between time in the lab where the data were collected and the PC which stored them. This line fix it."
      ]
    },
    {
      "cell_type": "code",
      "execution_count": null,
      "metadata": {
        "id": "Pv9y50Wzq1Iz"
      },
      "outputs": [],
      "source": [
        "collisions = pd.read_excel(os.path.join(ROOTDIR_DATASET_ANOMALY, \"20220811_collisions_timestamp.xlsx\"))\n",
        "collisions_init = collisions[collisions['Inizio/fine'] == \"i\"].Timestamp - pd.to_timedelta([2] * len(collisions[collisions['Inizio/fine'] == \"i\"].Timestamp), 'h')"
      ]
    },
    {
      "cell_type": "code",
      "execution_count": null,
      "metadata": {
        "id": "7JyxbramN6PM"
      },
      "outputs": [],
      "source": [
        "collisions"
      ]
    },
    {
      "cell_type": "code",
      "execution_count": null,
      "metadata": {
        "id": "ZCecnHINrqDK"
      },
      "outputs": [],
      "source": [
        "filepath_csv = [os.path.join(ROOTDIR_DATASET_ANOMALY, f\"rec{r}_collision_20220811_rbtc_0.1s.csv\") for r in [1, 5]]\n",
        "filepath_meta = [os.path.join(ROOTDIR_DATASET_ANOMALY, f\"rec{r}_collision_20220811_rbtc_0.1s.metadata\") for r in [1, 5]]\n",
        "df_action, df, df_meta, action2int = get_df_action(filepath_csv, filepath_meta)"
      ]
    },
    {
      "cell_type": "code",
      "execution_count": null,
      "metadata": {
        "id": "6etgQk3OsG1d"
      },
      "outputs": [],
      "source": [
        "start_time = time.time()\n",
        "df_features_collision = get_features_ts(\"statistical\", df_action, df_meta, 10, action2int)\n",
        "print(\"--- %s seconds ---\" % (time.time() - start_time))"
      ]
    },
    {
      "cell_type": "markdown",
      "metadata": {
        "id": "Epjubc7aa9mH"
      },
      "source": [
        "Preprocessing"
      ]
    },
    {
      "cell_type": "code",
      "execution_count": null,
      "metadata": {
        "id": "nrH9YmS8a_C9"
      },
      "outputs": [],
      "source": [
        "df_features_collision.isnull().values.any()"
      ]
    },
    {
      "cell_type": "code",
      "execution_count": null,
      "metadata": {
        "id": "Jb_DEeO2bGbz"
      },
      "outputs": [],
      "source": [
        "df_features_collision_nonan = df_features_collision.fillna(0)"
      ]
    },
    {
      "cell_type": "code",
      "execution_count": null,
      "metadata": {
        "id": "v3iC8BAebO8s"
      },
      "outputs": [],
      "source": [
        "X_collision = df_features_collision_nonan.drop([\"label\", \"start\", \"end\"], axis=1)\n",
        "y_collision = df_features_collision_nonan[\"label\"]"
      ]
    },
    {
      "cell_type": "code",
      "execution_count": null,
      "metadata": {
        "id": "N4Bf2CnxbYRD"
      },
      "outputs": [],
      "source": [
        "X_collision = pd.DataFrame(selector_variance.transform(scaler.transform(X_collision)),\n",
        "                           columns=X_collision.columns.values[selector_variance.get_support()])\n",
        "X_collision.drop(corr_features, inplace=True, axis=1)\n",
        "X_collision = X_collision[selected_features].copy()"
      ]
    },
    {
      "cell_type": "markdown",
      "metadata": {
        "id": "a0XBuZBmxNtz"
      },
      "source": [
        "# Assignment #2: Compute uncertainty"
      ]
    },
    {
      "cell_type": "code",
      "execution_count": null,
      "metadata": {
        "id": "hmgig5LAUoN8"
      },
      "outputs": [],
      "source": [
        "[...]"
      ]
    },
    {
      "cell_type": "markdown",
      "metadata": {
        "id": "zphGuG07xQuA"
      },
      "source": [
        "# Assignment #3:  Assess TAD algorithm performance via ROC curves\n",
        "\n",
        "Consider that unconfident predictions will show an uncertainty above a given threshold"
      ]
    },
    {
      "cell_type": "code",
      "execution_count": null,
      "metadata": {
        "id": "XeCRc71JLwth"
      },
      "outputs": [],
      "source": [
        "[...]"
      ]
    }
  ],
  "metadata": {
    "colab": {
      "provenance": [],
      "include_colab_link": true
    },
    "gpuClass": "standard",
    "kernelspec": {
      "display_name": "Python 3",
      "name": "python3"
    },
    "language_info": {
      "name": "python"
    }
  },
  "nbformat": 4,
  "nbformat_minor": 0
}