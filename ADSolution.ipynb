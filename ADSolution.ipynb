{
  "cells": [
    {
      "cell_type": "code",
      "execution_count": null,
      "metadata": {
        "id": "QeXTefl5Ys9n"
      },
      "outputs": [],
      "source": [
        "import tensorflow as tf\n",
        "import numpy as np"
      ]
    },
    {
      "attachments": {},
      "cell_type": "markdown",
      "metadata": {
        "id": "yhPrSpichLUh"
      },
      "source": [
        "**Dataset setup**"
      ]
    },
    {
      "cell_type": "code",
      "execution_count": null,
      "metadata": {
        "id": "TEYqLjW-Yzjn"
      },
      "outputs": [],
      "source": [
        "trainingData=np.load('./anomalyDetection_Normal.npy')\n",
        "testData=np.load('./data/anomalyDetection_Issue.npy')\n",
        "\n",
        "#windows of 50 with stride 1\n",
        "windowSize=50\n",
        "trainingData=np.array([trainingData[i:i+windowSize,:] for i in range(0, len(trainingData)-windowSize)])\n",
        "testData=np.array([testData[i:i+windowSize,:] for i in range(0, len(testData)-windowSize)])"
      ]
    },
    {
      "attachments": {},
      "cell_type": "markdown",
      "metadata": {
        "id": "Cl5Q37ZahOtK"
      },
      "source": [
        "**Define the model**"
      ]
    },
    {
      "cell_type": "code",
      "execution_count": null,
      "metadata": {
        "id": "l7CmnRqm2pco"
      },
      "outputs": [],
      "source": [
        "class TransformerBlock(tf.keras.layers.Layer):\n",
        "    def __init__(self, embed_dim, num_heads, rate=0.1):\n",
        "        super().__init__()\n",
        "        self.att = tf.keras.layers.MultiHeadAttention(num_heads=num_heads, key_dim=embed_dim)\n",
        "        self.ffn = tf.keras.Sequential(\n",
        "            [tf.keras.layers.Dense(embed_dim*4, activation=\"relu\"), tf.keras.layers.Dense(embed_dim),]\n",
        "        )\n",
        "        self.layernorm1 = tf.keras.layers.LayerNormalization(epsilon=1e-6)\n",
        "        self.layernorm2 = tf.keras.layers.LayerNormalization(epsilon=1e-6)\n",
        "\n",
        "    def call(self, inputs):\n",
        "        attn_output = self.att(inputs, inputs)\n",
        "        out1 = self.layernorm1(inputs + attn_output)\n",
        "        ffn_output = self.ffn(out1)\n",
        "        return self.layernorm2(out1 + ffn_output)\n",
        "    \n",
        "transformerModel=tf.keras.Sequential([\n",
        "    tf.keras.layers.Input(shape=(windowSize, 85)),\n",
        "    TransformerBlock(85, 2),\n",
        "    tf.keras.layers.MaxPool1D(pool_size=2),\n",
        "    TransformerBlock(85, 2),\n",
        "    tf.keras.layers.UpSampling1D(size=2),\n",
        "    TransformerBlock(85, 2)\n",
        "])"
      ]
    },
    {
      "attachments": {},
      "cell_type": "markdown",
      "metadata": {
        "id": "1Ak7o5H2hS6u"
      },
      "source": [
        "**Training**"
      ]
    },
    {
      "cell_type": "code",
      "execution_count": null,
      "metadata": {
        "id": "ZSlT1LeJ5hv1"
      },
      "outputs": [],
      "source": [
        "transformerModel.compile(loss='mse',optimizer='adam')\n",
        "transformerModel.fit(trainingData,trainingData,epochs=100,validation_data=(testData,testData))"
      ]
    },
    {
      "cell_type": "code",
      "execution_count": null,
      "metadata": {},
      "outputs": [],
      "source": [
        "transformerModel(testData)[:,25,:]\n",
        "import plotly.express as px\n",
        "px.line(tf.reduce_mean(transformerModel(testData)[:,25,:],axis=-1),facet_col='variable',facet_col_wrap=5,facet_row_spacing=0.01,height=1024)"
      ]
    }
  ],
  "metadata": {
    "accelerator": "GPU",
    "colab": {
      "collapsed_sections": [],
      "name": "Lab Autoencoder.ipynb",
      "provenance": []
    },
    "kernelspec": {
      "display_name": "Python 3",
      "name": "python3"
    },
    "language_info": {
      "codemirror_mode": {
        "name": "ipython",
        "version": 3
      },
      "file_extension": ".py",
      "mimetype": "text/x-python",
      "name": "python",
      "nbconvert_exporter": "python",
      "pygments_lexer": "ipython3",
      "version": "3.8.4"
    }
  },
  "nbformat": 4,
  "nbformat_minor": 0
}
