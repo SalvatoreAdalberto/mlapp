{
  "cells": [
    {
      "cell_type": "code",
      "execution_count": null,
      "metadata": {
        "id": "PTpefqmrWhez"
      },
      "outputs": [],
      "source": [
        "import tensorflow as tf"
      ]
    },
    {
      "cell_type": "code",
      "execution_count": null,
      "metadata": {
        "id": "A23J0PcZW12I"
      },
      "outputs": [],
      "source": [
        "class DINO(tf.keras.Model):\n",
        "\tdef __init__(self,model):\n",
        "\t\tsuper().__init__()\n",
        "\t\tmodel=tf.keras.Sequential([model,tf.keras.layers.GlobalAvgPool2D()])\n",
        "\n",
        "\tdef csLoss(self,a,b):\n",
        "\t\ttemperatureTeacher=0.05\n",
        "\t\ttemperatureTeacher=0.1\n",
        "\n",
        "\n",
        "\tdef ema_update(self,alpha):\n",
        "\t\t#Updates the teacher weights with an exponential moving average of the student weights\n",
        "\t\tfor t,s in zip(self.teacher.trainable_variables,self.student.trainable_variables):\n",
        "\t\t\tt.assign(t*(1-alpha)+s*alpha)\n",
        "\n",
        "\tdef train_step(self,data):\n",
        "\t\t\n",
        "\n",
        "\n",
        "\tdef call(self,x):\n",
        "\t\treturn self.student(x)"
      ]
    },
    {
      "cell_type": "code",
      "execution_count": null,
      "metadata": {
        "id": "RnIIhtr1mkMo"
      },
      "outputs": [],
      "source": [
        "modelBase=tf.keras.applications.ResNet50V2(weights=None,include_top=False,input_shape=(256,256,3))\n",
        "model=DINO(modelBase)"
      ]
    }
  ],
  "metadata": {
    "colab": {
      "collapsed_sections": [],
      "name": "Untitled22.ipynb",
      "provenance": []
    },
    "interpreter": {
      "hash": "3e8c92b6de2f0b21722b5275d73249bd192ab9d8708951c4d3ecb4aa02577beb"
    },
    "kernelspec": {
      "display_name": "Python 3.8.4 ('research')",
      "language": "python",
      "name": "python3"
    },
    "language_info": {
      "codemirror_mode": {
        "name": "ipython",
        "version": 3
      },
      "file_extension": ".py",
      "mimetype": "text/x-python",
      "name": "python",
      "nbconvert_exporter": "python",
      "pygments_lexer": "ipython3",
      "version": "3.8.4"
    }
  },
  "nbformat": 4,
  "nbformat_minor": 0
}
